{
 "cells": [
  {
   "cell_type": "code",
   "execution_count": 1,
   "id": "3852edca-85e7-4f61-8ccf-4163e8be9522",
   "metadata": {},
   "outputs": [],
   "source": [
    "import pandas as pd\n",
    "import helpers"
   ]
  },
  {
   "cell_type": "markdown",
   "id": "1985ac40-d91f-4214-8a75-d9ad4660887b",
   "metadata": {},
   "source": [
    "# Data Science Project Architecture\n",
    "## Getting a feel of an end-to-end data science solution"
   ]
  },
  {
   "cell_type": "markdown",
   "id": "47f67874-d20d-45ef-abe4-df2332080e11",
   "metadata": {},
   "source": [
    "In this lab, you'll see how all the pieces of data science: data analysis, code, tooling, experiments, come together to create a complete project. You'll perform a smaller-scale demonstration of a data science project lifecycle. Of course, you have to keep in mind that \"real-life\" data science is highly iterative. You might be working on the same task(s) for weeks or months - this lab is not able to show that.\n",
    "\n",
    "You'll be working with the asthma dataset located [here](https://www.kaggle.com/datasets/rabieelkharoua/asthma-disease-dataset). As always, it's preloaded for you in the `data/` directory. **Your main goal is to predict what factors lead to positive diagnosis.**\n",
    "\n",
    "This time, I suggest you do your research into separate notebooks, not inside this one. Use one or several, as you see fit; there are no guidelines as to how many notebooks you should have, or how long (or short) they have to be."
   ]
  },
  {
   "cell_type": "markdown",
   "id": "4a0c3885-cb90-456c-a34e-8c49ed2d8e50",
   "metadata": {},
   "source": [
    "### Problem 1. Project structure (1 point)\n",
    "Create the necessary directories and structure that you'll use to put your work in. I am providing a suggestion, but you don't have to follow it.\n",
    "`data/` for... data :D\n",
    "`notebooks/` for your research. Feel free to move this one inside.\n",
    "`src/` for Python code (which you'll need to create towards the end of the lab)\n",
    "`test/` (or `tests/`) for unit tests\n",
    "\n",
    "You may add any other structure you like. For inspiration, you can see how popular libraries handle their file structure.\n",
    "\n",
    "Create a GitHub repo (or any other Git-based source control, but I **highly** suggest GitHub) containing your initial project structure. Don't forget to commit relatively often so you have a way to track what you've done so far and go back if something goes awry."
   ]
  },
  {
   "cell_type": "markdown",
   "id": "893c8d10-7794-40a8-b3e8-c8be6bb40c70",
   "metadata": {},
   "source": [
    "<a href='https://github.com/Avgustinagr/AI-course-stuff'> github repo</a>\n",
    "A bit abandoned but this lab will be in there :) (In 'Homework')"
   ]
  },
  {
   "cell_type": "markdown",
   "id": "0826a79c-e60b-4e88-9bcc-6e203e0f9ac1",
   "metadata": {},
   "source": [
    "### Problem 2. Data Exploration (1 point)\n",
    "In an appropriate notebook, load the data. Ensure its validity and start your EDA. Feel free to create any visualizations, tables, filters, etc. you see fit."
   ]
  },
  {
   "cell_type": "markdown",
   "id": "60c6e687-6535-4131-9dcb-16fa460351b2",
   "metadata": {},
   "source": [
    "In notebooks folder: /notebooks/Data_explore.ipynb "
   ]
  },
  {
   "cell_type": "markdown",
   "id": "6012b94f-539f-4013-837e-ed50d2b5ba0d",
   "metadata": {},
   "source": [
    "### Problem 3. Data cleaning and preprocessing (1 point)\n",
    "This should be self-explanatory. In an appropriate notebook (probably different than your previous one), explore different ways to clean and preprocess the dataset.\n",
    "\n",
    "This is still part of your research. That is, don't be afraid to _try out different approaches to the same problem_. E.g., if you have a lot of missing values, you may not know right away how to handle them. Experimenting with several approaches will give you a better indication what works well for your data and goals."
   ]
  },
  {
   "cell_type": "markdown",
   "id": "42bff7f3-5050-4688-9f05-2380abec72fb",
   "metadata": {},
   "source": [
    "notebooks/Clean_up_EDA.ipynb"
   ]
  },
  {
   "cell_type": "markdown",
   "id": "4825c9c4-570b-488c-b13d-41e494713853",
   "metadata": {},
   "source": [
    "### Problem 4. Exploratory data analysis (1 point)\n",
    "This step may, or may not, happen in unison with the previous one. Your goal is to understand the data distributions, relationships, useful features, maybe create visualizations and inform your data cleaning process."
   ]
  },
  {
   "cell_type": "markdown",
   "id": "51f20d8e-2593-4815-a014-92ba35c0ade0",
   "metadata": {},
   "source": [
    "notebooks/Clean_up_EDA.ipynb"
   ]
  },
  {
   "cell_type": "markdown",
   "id": "feacc8f7-a0f5-46b8-9967-9136eeb9fc8f",
   "metadata": {},
   "source": [
    "### Problem 5. Feature manipulation (1 point)\n",
    "Now that your data has been thoroughly cleaned (w.r.t. your goal to model diagnoses) and explored, you'll need to \"play around\" and prepare good features.\n",
    "\n",
    "You don't have to think about modelling (machine learning) at this stage (although it won't do harm). Perform feature selection and feature engineering in ways that you think will be beneficial for a \"mental\" model of the data. Such a model consists of hypotheses that you should be able to test.\n",
    "\n",
    "Feel free to do any sort of feature maniplulation on the data you like. Ideally, at the end of the process, you'll have a rectangular data table consisting of only (floating-point) numbers and nothing else."
   ]
  },
  {
   "cell_type": "markdown",
   "id": "f6c73dff-1599-438b-bc59-efeec715c271",
   "metadata": {},
   "source": [
    "notebooks/Clean_up_EDA.ipynb"
   ]
  },
  {
   "cell_type": "markdown",
   "id": "9a4df3d0-b222-48f6-8af7-013ef8e84344",
   "metadata": {},
   "source": [
    "### Problem 6. Data preparation and manipulation script (2 points)\n",
    "So far, you should have tried lots of different ways to work with the data. Some of them should have been good, others - not so much. This is extremely valuable research, and we don't want to lose it, but now we have to think about automation.\n",
    "\n",
    "Extract your data preprocessing and manipulation functions into one or more files in the `src/` (or similar) directory. Debug the code and ensure it's been optimized. Use vectorization and the `pandas` / `numpy` APIs as much as possible. I don't usually expect data processing scripts to create visualizations. Most often, they consist of functions which accept some dataframe(s) and return (an)other dataframe(s). Also, we usually avoid one-liners (e.g., a function which only calls a different function) unless there's a very good reason for them (e.g., it's semantically easier to understand).\n",
    "\n",
    "Refactor the code so that it's **reusable**. Function parameters (and polymorphism) achieve a lot in terms of reusability :). Avoid hardcoding stuff. Follow the best practices in Python and the style guides. Use a linter to help you clean up your code."
   ]
  },
  {
   "cell_type": "markdown",
   "id": "bf19d0bc-1cea-49f5-980b-3a812fa8fe4a",
   "metadata": {},
   "source": [
    "./helpers.py"
   ]
  },
  {
   "cell_type": "markdown",
   "id": "b6430576-1b6f-4a0a-8cb7-5f450318ac2b",
   "metadata": {},
   "source": [
    "### Some very quick tests: ###"
   ]
  },
  {
   "cell_type": "code",
   "execution_count": 2,
   "id": "62f1de06-887c-439f-9aba-1e5648b896b2",
   "metadata": {},
   "outputs": [
    {
     "data": {
      "text/html": [
       "<div>\n",
       "<style scoped>\n",
       "    .dataframe tbody tr th:only-of-type {\n",
       "        vertical-align: middle;\n",
       "    }\n",
       "\n",
       "    .dataframe tbody tr th {\n",
       "        vertical-align: top;\n",
       "    }\n",
       "\n",
       "    .dataframe thead th {\n",
       "        text-align: right;\n",
       "    }\n",
       "</style>\n",
       "<table border=\"1\" class=\"dataframe\">\n",
       "  <thead>\n",
       "    <tr style=\"text-align: right;\">\n",
       "      <th></th>\n",
       "      <th>PatientID</th>\n",
       "      <th>Age</th>\n",
       "      <th>Gender</th>\n",
       "      <th>Ethnicity</th>\n",
       "      <th>EducationLevel</th>\n",
       "      <th>BMI</th>\n",
       "      <th>Smoking</th>\n",
       "      <th>PhysicalActivity</th>\n",
       "      <th>DietQuality</th>\n",
       "      <th>SleepQuality</th>\n",
       "      <th>...</th>\n",
       "      <th>LungFunctionFEV1</th>\n",
       "      <th>LungFunctionFVC</th>\n",
       "      <th>Wheezing</th>\n",
       "      <th>ShortnessOfBreath</th>\n",
       "      <th>ChestTightness</th>\n",
       "      <th>Coughing</th>\n",
       "      <th>NighttimeSymptoms</th>\n",
       "      <th>ExerciseInduced</th>\n",
       "      <th>Diagnosis</th>\n",
       "      <th>DoctorInCharge</th>\n",
       "    </tr>\n",
       "  </thead>\n",
       "  <tbody>\n",
       "    <tr>\n",
       "      <th>0</th>\n",
       "      <td>5034</td>\n",
       "      <td>63</td>\n",
       "      <td>0</td>\n",
       "      <td>1</td>\n",
       "      <td>0</td>\n",
       "      <td>15.848744</td>\n",
       "      <td>0</td>\n",
       "      <td>0.894448</td>\n",
       "      <td>5.488696</td>\n",
       "      <td>8.701003</td>\n",
       "      <td>...</td>\n",
       "      <td>1.369051</td>\n",
       "      <td>4.941206</td>\n",
       "      <td>0</td>\n",
       "      <td>0</td>\n",
       "      <td>1</td>\n",
       "      <td>0</td>\n",
       "      <td>0</td>\n",
       "      <td>1</td>\n",
       "      <td>0</td>\n",
       "      <td>Dr_Confid</td>\n",
       "    </tr>\n",
       "    <tr>\n",
       "      <th>1</th>\n",
       "      <td>5035</td>\n",
       "      <td>26</td>\n",
       "      <td>1</td>\n",
       "      <td>2</td>\n",
       "      <td>2</td>\n",
       "      <td>22.757042</td>\n",
       "      <td>0</td>\n",
       "      <td>5.897329</td>\n",
       "      <td>6.341014</td>\n",
       "      <td>5.153966</td>\n",
       "      <td>...</td>\n",
       "      <td>2.197767</td>\n",
       "      <td>1.702393</td>\n",
       "      <td>1</td>\n",
       "      <td>0</td>\n",
       "      <td>0</td>\n",
       "      <td>1</td>\n",
       "      <td>1</td>\n",
       "      <td>1</td>\n",
       "      <td>0</td>\n",
       "      <td>Dr_Confid</td>\n",
       "    </tr>\n",
       "    <tr>\n",
       "      <th>2</th>\n",
       "      <td>5036</td>\n",
       "      <td>57</td>\n",
       "      <td>0</td>\n",
       "      <td>2</td>\n",
       "      <td>1</td>\n",
       "      <td>18.395396</td>\n",
       "      <td>0</td>\n",
       "      <td>6.739367</td>\n",
       "      <td>9.196237</td>\n",
       "      <td>6.840647</td>\n",
       "      <td>...</td>\n",
       "      <td>1.698011</td>\n",
       "      <td>5.022553</td>\n",
       "      <td>1</td>\n",
       "      <td>1</td>\n",
       "      <td>1</td>\n",
       "      <td>0</td>\n",
       "      <td>1</td>\n",
       "      <td>1</td>\n",
       "      <td>0</td>\n",
       "      <td>Dr_Confid</td>\n",
       "    </tr>\n",
       "    <tr>\n",
       "      <th>3</th>\n",
       "      <td>5037</td>\n",
       "      <td>40</td>\n",
       "      <td>1</td>\n",
       "      <td>2</td>\n",
       "      <td>1</td>\n",
       "      <td>38.515278</td>\n",
       "      <td>0</td>\n",
       "      <td>1.404503</td>\n",
       "      <td>5.826532</td>\n",
       "      <td>4.253036</td>\n",
       "      <td>...</td>\n",
       "      <td>3.032037</td>\n",
       "      <td>2.300159</td>\n",
       "      <td>1</td>\n",
       "      <td>0</td>\n",
       "      <td>1</td>\n",
       "      <td>1</td>\n",
       "      <td>1</td>\n",
       "      <td>0</td>\n",
       "      <td>0</td>\n",
       "      <td>Dr_Confid</td>\n",
       "    </tr>\n",
       "    <tr>\n",
       "      <th>4</th>\n",
       "      <td>5038</td>\n",
       "      <td>61</td>\n",
       "      <td>0</td>\n",
       "      <td>0</td>\n",
       "      <td>3</td>\n",
       "      <td>19.283802</td>\n",
       "      <td>0</td>\n",
       "      <td>4.604493</td>\n",
       "      <td>3.127048</td>\n",
       "      <td>9.625799</td>\n",
       "      <td>...</td>\n",
       "      <td>3.470589</td>\n",
       "      <td>3.067944</td>\n",
       "      <td>1</td>\n",
       "      <td>1</td>\n",
       "      <td>1</td>\n",
       "      <td>0</td>\n",
       "      <td>0</td>\n",
       "      <td>1</td>\n",
       "      <td>0</td>\n",
       "      <td>Dr_Confid</td>\n",
       "    </tr>\n",
       "  </tbody>\n",
       "</table>\n",
       "<p>5 rows × 29 columns</p>\n",
       "</div>"
      ],
      "text/plain": [
       "   PatientID  Age  Gender  Ethnicity  EducationLevel        BMI  Smoking  \\\n",
       "0       5034   63       0          1               0  15.848744        0   \n",
       "1       5035   26       1          2               2  22.757042        0   \n",
       "2       5036   57       0          2               1  18.395396        0   \n",
       "3       5037   40       1          2               1  38.515278        0   \n",
       "4       5038   61       0          0               3  19.283802        0   \n",
       "\n",
       "   PhysicalActivity  DietQuality  SleepQuality  ...  LungFunctionFEV1  \\\n",
       "0          0.894448     5.488696      8.701003  ...          1.369051   \n",
       "1          5.897329     6.341014      5.153966  ...          2.197767   \n",
       "2          6.739367     9.196237      6.840647  ...          1.698011   \n",
       "3          1.404503     5.826532      4.253036  ...          3.032037   \n",
       "4          4.604493     3.127048      9.625799  ...          3.470589   \n",
       "\n",
       "   LungFunctionFVC  Wheezing  ShortnessOfBreath  ChestTightness  Coughing  \\\n",
       "0         4.941206         0                  0               1         0   \n",
       "1         1.702393         1                  0               0         1   \n",
       "2         5.022553         1                  1               1         0   \n",
       "3         2.300159         1                  0               1         1   \n",
       "4         3.067944         1                  1               1         0   \n",
       "\n",
       "   NighttimeSymptoms  ExerciseInduced  Diagnosis  DoctorInCharge  \n",
       "0                  0                1          0       Dr_Confid  \n",
       "1                  1                1          0       Dr_Confid  \n",
       "2                  1                1          0       Dr_Confid  \n",
       "3                  1                0          0       Dr_Confid  \n",
       "4                  0                1          0       Dr_Confid  \n",
       "\n",
       "[5 rows x 29 columns]"
      ]
     },
     "execution_count": 2,
     "metadata": {},
     "output_type": "execute_result"
    }
   ],
   "source": [
    "asthma = pd.read_csv('../data/asthma_disease_data.csv')\n",
    "asthma.head(5)"
   ]
  },
  {
   "cell_type": "code",
   "execution_count": 3,
   "id": "0abb6023-bbad-4e24-967f-ba320f3b3f91",
   "metadata": {},
   "outputs": [
    {
     "data": {
      "text/plain": [
       "0       0.160080\n",
       "1       0.452975\n",
       "2       1.434158\n",
       "3       0.276175\n",
       "4      -0.651488\n",
       "          ...   \n",
       "2387    0.376900\n",
       "2388   -0.218515\n",
       "2389    1.096639\n",
       "2390    0.804127\n",
       "2391    0.821315\n",
       "Name: DietQuality, Length: 2392, dtype: float64"
      ]
     },
     "execution_count": 3,
     "metadata": {},
     "output_type": "execute_result"
    }
   ],
   "source": [
    "helpers.standartize(asthma['DietQuality'])"
   ]
  },
  {
   "cell_type": "code",
   "execution_count": 4,
   "id": "1ce4fa63-56ac-40d1-b299-8929daf6b400",
   "metadata": {},
   "outputs": [
    {
     "data": {
      "text/plain": [
       "0       0.548738\n",
       "1       0.633997\n",
       "2       0.919608\n",
       "3       0.582532\n",
       "4       0.312499\n",
       "          ...   \n",
       "2387    0.611852\n",
       "2388    0.438533\n",
       "2389    0.821360\n",
       "2390    0.736213\n",
       "2391    0.741216\n",
       "Name: DietQuality, Length: 2392, dtype: float64"
      ]
     },
     "execution_count": 4,
     "metadata": {},
     "output_type": "execute_result"
    }
   ],
   "source": [
    "helpers.normalize(asthma['DietQuality'])"
   ]
  },
  {
   "cell_type": "code",
   "execution_count": 9,
   "id": "671b614b-a6a0-41c2-a3ce-fdbec012fcd1",
   "metadata": {},
   "outputs": [],
   "source": [
    "asthma = helpers.set_cols_dtype(asthma, ['Gender', 'Ethnicity'], 'category')"
   ]
  },
  {
   "cell_type": "code",
   "execution_count": 11,
   "id": "4c9d8ac6-3cf0-40b4-85e3-d76fea959dc1",
   "metadata": {},
   "outputs": [
    {
     "data": {
      "text/plain": [
       "Gender       category\n",
       "Ethnicity    category\n",
       "dtype: object"
      ]
     },
     "execution_count": 11,
     "metadata": {},
     "output_type": "execute_result"
    }
   ],
   "source": [
    "asthma[['Gender', 'Ethnicity']].dtypes"
   ]
  },
  {
   "cell_type": "markdown",
   "id": "1a20ac09-21bc-4730-8986-3e186863c4ba",
   "metadata": {},
   "source": [
    "### Problem 7. Documentation (1 point)\n",
    "Ensure all your public-facing functions (that is, functions that are \"exposed\" to the user) have docstrings. Ensure they are well-documented and their purpose is clear. This is especially valuable if you're doing some advanced analysis or data manipulation. You can see various ways of creating docstrings online. There are even tools (e.g., VSCode extensions) which will help you with the docstring boilerplate."
   ]
  },
  {
   "cell_type": "markdown",
   "id": "e4b93746-b076-4162-8e8f-f316037c5223",
   "metadata": {},
   "source": [
    "./helpers.py "
   ]
  },
  {
   "cell_type": "markdown",
   "id": "816f155c-98dd-4b59-ac8e-c429e760e75d",
   "metadata": {},
   "source": [
    "### Problem 8. Testing (1 point)\n",
    "Now that you've done the previous two problems, you have _specification_ (your documentation - it tells you what you intend to do) and _implementation_ (your well-written and refactored code - it tells you _how_ it's done). The difficult part now is to ensure these two things match.\n",
    "\n",
    "Create unit tests for your functions. Be careful so you test _your_ code, not `pandas`'. Create hypothesis tests to validate your assumptions. Do validity checks on the input data and sanity checks on the outputs of functions. Ensure your code is well-tested. Ensure it's modular, reusable, and flexible; but most of all - that it works **correctly**. If you haven't yet (though you should have - in problem 6) - think about exceptions and exception handling."
   ]
  },
  {
   "cell_type": "markdown",
   "id": "29ec44ce-5c94-4c2d-b205-8e1387ec9dd2",
   "metadata": {},
   "source": [
    "./test_helpers.py"
   ]
  },
  {
   "cell_type": "markdown",
   "id": "bc2a89bc-7a03-450e-a1a3-ca163f4f8fe6",
   "metadata": {},
   "source": [
    "### Problem 9. Reproducibility (1 point)\n",
    "Ensure all your notebooks and scripts are not only correct, but also reproducible. List all code dependencies (probably in a `requirements.txt` file); ensure your random seeds are correct; ensure the code produces the same results when run multiple times, etc.\n",
    "\n",
    "Do your final cleanup work. You might want to differentiate your \"draft\" noteoboks from your \"official\" ones (although I advise against that) and creat your final commits."
   ]
  },
  {
   "cell_type": "markdown",
   "id": "bd2cae86-a4fc-4860-8541-13cd6b7f7339",
   "metadata": {},
   "source": [
    "#### I generated my requirements like this: ####\n",
    "But I suppose this can also be useful to the person trying to run my code. If they don't know where to look for their own versions."
   ]
  },
  {
   "cell_type": "code",
   "execution_count": 13,
   "id": "aad899c1-a7bc-480a-a71b-49337ded85bb",
   "metadata": {},
   "outputs": [
    {
     "name": "stdout",
     "output_type": "stream",
     "text": [
      "Python 3.11.9\n"
     ]
    }
   ],
   "source": [
    "!python --version"
   ]
  },
  {
   "cell_type": "code",
   "execution_count": 18,
   "id": "44dd0f82-63cd-466d-a025-0aa1ab8966e8",
   "metadata": {},
   "outputs": [
    {
     "name": "stdout",
     "output_type": "stream",
     "text": [
      "matplotlib                   3.7.5\n",
      "matplotlib-inline            0.1.6\n",
      "numpy                        1.23.2\n",
      "pandas                       1.4.3\n",
      "regex                        2024.7.24\n",
      "seaborn                      0.13.2\n"
     ]
    }
   ],
   "source": [
    "!pip3 list | grep -E \"\\bnumpy|unittest|pandas|regex|seaborn|matplotlib|sklearn\\b\""
   ]
  },
  {
   "cell_type": "code",
   "execution_count": 20,
   "id": "f075dedf-d4d0-426e-8cad-c4312f61f9e5",
   "metadata": {},
   "outputs": [],
   "source": [
    "!pip3 list | grep -E \"\\bnumpy|unittest|pandas|regex|seaborn|matplotlib|sklearn\\b\" > '../requirements(2).txt'"
   ]
  },
  {
   "cell_type": "code",
   "execution_count": 21,
   "id": "e18962c6-8f3f-427e-a746-ff28fd8a1c43",
   "metadata": {},
   "outputs": [],
   "source": [
    "!python --version >> '../requirements(2).txt'"
   ]
  },
  {
   "cell_type": "markdown",
   "id": "d0491a01-a205-4713-87ee-d1e6d2dbf072",
   "metadata": {},
   "source": [
    "### * Problem 10. Above and beyond\n",
    "Of course, there are many things to be done. If you have time, I advise you learn how to work with data versioning (using DVC) and data pipeline / artifact tracking (using MLFlow or a similar tool). You might also find it useful to create a \"proper\", advanced data pipeline where you may need to work with big files (using Dask or a similar library), or schedule and organize tasks (using data pipeline managers like Luigi or Airflow).\n",
    "\n",
    "You might also want to do machine learning. I've deliberately stayed away from that for the purposes of the lab because it's a whole different beast, but it's a worthy challenge and it's extremely interesting."
   ]
  },
  {
   "cell_type": "code",
   "execution_count": null,
   "id": "f1d6bb04-06e0-4075-abcc-5bba12e97476",
   "metadata": {},
   "outputs": [],
   "source": []
  }
 ],
 "metadata": {
  "kernelspec": {
   "display_name": "Python 3 (ipykernel)",
   "language": "python",
   "name": "python3"
  },
  "language_info": {
   "codemirror_mode": {
    "name": "ipython",
    "version": 3
   },
   "file_extension": ".py",
   "mimetype": "text/x-python",
   "name": "python",
   "nbconvert_exporter": "python",
   "pygments_lexer": "ipython3",
   "version": "3.8.10"
  }
 },
 "nbformat": 4,
 "nbformat_minor": 5
}
